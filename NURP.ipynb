{
  "nbformat": 4,
  "nbformat_minor": 0,
  "metadata": {
    "colab": {
      "provenance": [],
      "authorship_tag": "ABX9TyNmNcn48Me3tNjEbAIPu+6D",
      "include_colab_link": true
    },
    "kernelspec": {
      "name": "python3",
      "display_name": "Python 3"
    },
    "language_info": {
      "name": "python"
    }
  },
  "cells": [
    {
      "cell_type": "markdown",
      "metadata": {
        "id": "view-in-github",
        "colab_type": "text"
      },
      "source": [
        "<a href=\"https://colab.research.google.com/github/doctor-ra/NURP/blob/main/NURP.ipynb\" target=\"_parent\"><img src=\"https://colab.research.google.com/assets/colab-badge.svg\" alt=\"Open In Colab\"/></a>"
      ]
    },
    {
      "cell_type": "code",
      "execution_count": null,
      "metadata": {
        "id": "m8qG9zHJViZm"
      },
      "outputs": [],
      "source": []
    },
    {
      "cell_type": "code",
      "source": [
        "import pandas as pd\n",
        "import numpy as np\n",
        "import matplotlib.pyplot as plt\n",
        "from PIL import Image\n",
        "\n",
        "from sklearn.metrics import confusion_matrix\n",
        "\n",
        "from keras.preprocessing.image import ImageDataGenerator, array_to_img\n",
        "from keras.models import Sequential\n",
        "from keras.layers import Conv2D, MaxPooling2D, Flatten, Dense, Dropout"
      ],
      "metadata": {
        "id": "PrwU5Uv5UUdi"
      },
      "execution_count": null,
      "outputs": []
    },
    {
      "cell_type": "code",
      "source": [
        "import warnings\n",
        "from datetime import datetime\n",
        "\n",
        "warnings.filterwarnings('ignore')\n",
        "start_time = datetime.now()"
      ],
      "metadata": {
        "id": "q1RJNnZXUU-A"
      },
      "execution_count": null,
      "outputs": []
    },
    {
      "cell_type": "code",
      "source": [
        "hyper_dimension = 500\n",
        "hyper_epochs = 100\n",
        "hyper_batch_size = 16\n",
        "hyper_feature_maps = 32\n",
        "hyper_channels = 1\n",
        "hyper_mode = 'grayscale'"
      ],
      "metadata": {
        "id": "LpW2y_7dUW44"
      },
      "execution_count": null,
      "outputs": []
    },
    {
      "cell_type": "code",
      "source": [
        "# Initializing the CNN\n",
        "classifier = Sequential()\n",
        "\n",
        "# Convolution & pooling - First convolution layer\n",
        "classifier.add(Conv2D(hyper_feature_maps, (3, 3),\n",
        "                      input_shape = (hyper_dimension,\n",
        "                                     hyper_dimension,\n",
        "                                     hyper_channels),\n",
        "                      activation = 'relu'))\n",
        "classifier.add(MaxPooling2D(pool_size = (2, 2)))\n",
        "\n",
        "# Convolution & pooling - Second convolution layer (same as first layer)\n",
        "classifier.add(Conv2D(hyper_feature_maps, (3, 3),\n",
        "                      input_shape = (hyper_dimension,\n",
        "                                     hyper_dimension,\n",
        "                                     hyper_channels),\n",
        "                      activation = 'relu'))\n",
        "classifier.add(MaxPooling2D(pool_size = (2, 2)))\n",
        "\n",
        "# Convolution & pooling - Third convolution layer\n",
        "classifier.add(Conv2D(hyper_feature_maps * 2, (3, 3),\n",
        "                      input_shape = (hyper_dimension,\n",
        "                                     hyper_dimension,\n",
        "                                     hyper_channels),\n",
        "                      activation = 'relu'))\n",
        "classifier.add(MaxPooling2D(pool_size = (2, 2)))\n",
        "\n",
        "# Flattening\n",
        "classifier.add(Flatten())\n",
        "\n",
        "# Full connection\n",
        "classifier.add(Dense(units = hyper_feature_maps * 2, activation = 'relu'))\n",
        "classifier.add(Dense(units = 1, activation = 'sigmoid'))\n",
        "\n",
        "# Compiling the CNN\n",
        "classifier.compile(optimizer = 'adam',\n",
        "                   loss = 'binary_crossentropy',\n",
        "                   metrics = ['accuracy'])"
      ],
      "metadata": {
        "id": "GzlsWtjxUY5s"
      },
      "execution_count": null,
      "outputs": []
    },
    {
      "cell_type": "code",
      "source": [
        "# Creating training and validation image flows\n",
        "\n",
        "train_gen = ImageDataGenerator(rescale = 1./255,\n",
        "                               shear_range = 0.2,\n",
        "                               zoom_range = 0.2,\n",
        "                               vertical_flip = True)\n",
        "\n",
        "val_gen = ImageDataGenerator(rescale = 1./255)\n",
        "\n",
        "train_set = train_gen.flow_from_directory('../input/pneumonia-xray-images/train',\n",
        "                                          target_size = (hyper_dimension,\n",
        "                                                         hyper_dimension),\n",
        "                                          batch_size = hyper_batch_size,\n",
        "                                          class_mode = 'binary',\n",
        "                                          color_mode = hyper_mode)\n",
        "\n",
        "val_set = val_gen.flow_from_directory('../input/pneumonia-xray-images/val',\n",
        "                                      target_size = (hyper_dimension,\n",
        "                                                     hyper_dimension),\n",
        "                                      batch_size = hyper_batch_size,\n",
        "                                      class_mode = 'binary',\n",
        "                                      color_mode = hyper_mode)"
      ],
      "metadata": {
        "id": "kF-n9sWuUbiE"
      },
      "execution_count": null,
      "outputs": []
    },
    {
      "cell_type": "code",
      "source": [
        "# Visualizing images in the first training set batch \n",
        "\n",
        "image_batch = train_set[0][0]\n",
        "\n",
        "plt.figure(figsize=(20,5))\n",
        "for i in range(len(image_batch)):\n",
        "    plt.subplot(2,8,i+1)\n",
        "    pil_img = array_to_img(image_batch[i])\n",
        "    plt.imshow(pil_img,cmap='gray')\n",
        "    plt.axis('off')\n",
        "plt.tight_layout()\n",
        "plt.show()"
      ],
      "metadata": {
        "id": "5AoIctK_Ue89"
      },
      "execution_count": null,
      "outputs": []
    },
    {
      "cell_type": "code",
      "source": [
        "# Fitting the model\n",
        "\n",
        "results = classifier.fit_generator(train_set,\n",
        "                                   steps_per_epoch = len(train_set),\n",
        "                                   epochs = hyper_epochs,\n",
        "                                   validation_data = val_set,\n",
        "                                   validation_steps = len(val_set))"
      ],
      "metadata": {
        "id": "XG0Jl2WxUkSi"
      },
      "execution_count": null,
      "outputs": []
    },
    {
      "cell_type": "code",
      "source": [
        "# Creating test image flow\n",
        "\n",
        "test_gen = ImageDataGenerator(rescale = 1./255)\n",
        "\n",
        "test_set = test_gen.flow_from_directory('../input/pneumonia-xray-images/test',\n",
        "                                        target_size = (hyper_dimension,\n",
        "                                                       hyper_dimension),\n",
        "                                        batch_size = 1,\n",
        "                                        class_mode = None,\n",
        "                                        color_mode = hyper_mode,\n",
        "                                        shuffle=False)\n",
        "\n",
        "# Making predictions\n",
        "\n",
        "predictions = classifier.predict_generator(test_set)\n",
        "predictions[predictions <= 0.5] = 0\n",
        "predictions[predictions > 0.5] = 1"
      ],
      "metadata": {
        "id": "ic_uzvs2Un6q"
      },
      "execution_count": null,
      "outputs": []
    },
    {
      "cell_type": "code",
      "source": [
        "# Confusion matrix\n",
        "\n",
        "cm = pd.DataFrame(data=confusion_matrix(test_set.classes, predictions, labels=[0, 1]),\n",
        "                  index=[\"Actual Normal\", \"Actual Pneumonia\"],\n",
        "                  columns=[\"Predicted Normal\", \"Predicted Pneumonia\"])\n",
        "cm"
      ],
      "metadata": {
        "id": "ywLLY--BUrKd"
      },
      "execution_count": null,
      "outputs": []
    },
    {
      "cell_type": "code",
      "source": [
        "end_time = datetime.now()\n",
        "\n",
        "print('\\nStart time', start_time)\n",
        "print('End time', end_time)\n",
        "print('Time elapsed', end_time - start_time)"
      ],
      "metadata": {
        "id": "e72URx_JUvfA"
      },
      "execution_count": null,
      "outputs": []
    }
  ]
}